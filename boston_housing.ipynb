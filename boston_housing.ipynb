{
 "cells": [
  {
   "cell_type": "markdown",
   "metadata": {},
   "source": [
    "# Machine Learning Engineer Nanodegree\n",
    "## Model Evaluation & Validation\n",
    "## Project 1: Predicting Boston Housing Prices\n",
    "\n",
    "Welcome to the first project of the Machine Learning Engineer Nanodegree! In this notebook, some template code has already been provided for you, and you will need to implement additional functionality to successfully complete this project. You will not need to modify the included code beyond what is requested. Sections that begin with **'Implementation'** in the header indicate that the following block of code will require additional functionality which you must provide. Instructions will be provided for each section and the specifics of the implementation are marked in the code block with a 'TODO' statement. Please be sure to read the instructions carefully!\n",
    "\n",
    "In addition to implementing code, there will be questions that you must answer which relate to the project and your implementation. Each section where you will answer a question is preceded by a **'Question X'** header. Carefully read each question and provide thorough answers in the following text boxes that begin with **'Answer:'**. Your project submission will be evaluated based on your answers to each of the questions and the implementation you provide.  \n",
    "\n",
    ">**Note:** Code and Markdown cells can be executed using the **Shift + Enter** keyboard shortcut. In addition, Markdown cells can be edited by typically double-clicking the cell to enter edit mode."
   ]
  },
  {
   "cell_type": "markdown",
   "metadata": {},
   "source": [
    "## Getting Started\n",
    "In this project, you will evaluate the performance and predictive power of a model that has been trained and tested on data collected from homes in suburbs of Boston, Massachusetts. A model trained on this data that is seen as a *good fit* could then be used to make certain predictions about a home — in particular, its monetary value. This model would prove to be invaluable for someone like a real estate agent who could make use of such information on a daily basis.\n",
    "\n",
    "The dataset for this project originates from the [UCI Machine Learning Repository](https://archive.ics.uci.edu/ml/datasets/Housing). The Boston housing data was collected in 1978 and each of the 506 entries represent aggregated data about 14 features for homes from various suburbs in Boston, Massachusetts. For the purposes of this project, the following preprocessing steps have been made to the dataset:\n",
    "- 16 data points have an `'MEDV'` value of 50.0. These data points likely contain **missing or censored values** and have been removed.\n",
    "- 1 data point has an `'RM'` value of 8.78. This data point can be considered an **outlier** and has been removed.\n",
    "- The features `'RM'`, `'LSTAT'`, `'PTRATIO'`, and `'MEDV'` are essential. The remaining **non-relevant features** have been excluded.\n",
    "- The feature `'MEDV'` has been **multiplicatively scaled** to account for 35 years of market inflation.\n",
    "\n",
    "Run the code cell below to load the Boston housing dataset, along with a few of the necessary Python libraries required for this project. You will know the dataset loaded successfully if the size of the dataset is reported."
   ]
  },
  {
   "cell_type": "code",
   "execution_count": 1,
   "metadata": {
    "collapsed": false
   },
   "outputs": [
    {
     "name": "stdout",
     "output_type": "stream",
     "text": [
      "Boston housing dataset has 489 data points with 4 variables each.\n"
     ]
    }
   ],
   "source": [
    "# Import libraries necessary for this project\n",
    "import numpy as np\n",
    "import pandas as pd\n",
    "import visuals as vs # Supplementary code\n",
    "from sklearn.cross_validation import ShuffleSplit\n",
    "\n",
    "# Pretty display for notebooks\n",
    "%matplotlib inline\n",
    "\n",
    "# Load the Boston housing dataset\n",
    "data = pd.read_csv('housing.csv')\n",
    "prices = data['MEDV']\n",
    "features = data.drop('MEDV', axis = 1)\n",
    "    \n",
    "# Success\n",
    "print \"Boston housing dataset has {} data points with {} variables each.\".format(*data.shape)"
   ]
  },
  {
   "cell_type": "markdown",
   "metadata": {},
   "source": [
    "## Data Exploration\n",
    "In this first section of this project, you will make a cursory investigation about the Boston housing data and provide your observations. Familiarizing yourself with the data through an explorative process is a fundamental practice to help you better understand and justify your results.\n",
    "\n",
    "Since the main goal of this project is to construct a working model which has the capability of predicting the value of houses, we will need to separate the dataset into **features** and the **target variable**. The **features**, `'RM'`, `'LSTAT'`, and `'PTRATIO'`, give us quantitative information about each data point. The **target variable**, `'MEDV'`, will be the variable we seek to predict. These are stored in `features` and `prices`, respectively."
   ]
  },
  {
   "cell_type": "markdown",
   "metadata": {},
   "source": [
    "### Implementation: Calculate Statistics\n",
    "For your very first coding implementation, you will calculate descriptive statistics about the Boston housing prices. Since `numpy` has already been imported for you, use this library to perform the necessary calculations. These statistics will be extremely important later on to analyze various prediction results from the constructed model.\n",
    "\n",
    "In the code cell below, you will need to implement the following:\n",
    "- Calculate the minimum, maximum, mean, median, and standard deviation of `'MEDV'`, which is stored in `prices`.\n",
    "  - Store each calculation in their respective variable."
   ]
  },
  {
   "cell_type": "code",
   "execution_count": 2,
   "metadata": {
    "collapsed": false
   },
   "outputs": [
    {
     "name": "stdout",
     "output_type": "stream",
     "text": [
      "Statistics for Boston housing dataset:\n",
      "\n",
      "Minimum price: $105,000.00\n",
      "Maximum price: $1,024,800.00\n",
      "Mean price: $454,342.94\n",
      "Median price $438,900.00\n",
      "Standard deviation of prices: $165,171.13\n"
     ]
    }
   ],
   "source": [
    "# TODO: Minimum price of the data\n",
    "minimum_price = prices.min()\n",
    "\n",
    "# TODO: Maximum price of the data\n",
    "maximum_price = prices.max()\n",
    "\n",
    "# TODO: Mean price of the data\n",
    "mean_price = prices.mean()\n",
    "\n",
    "# TODO: Median price of the data\n",
    "median_price = prices.median()\n",
    "\n",
    "# TODO: Standard deviation of prices of the data\n",
    "std_price = prices.std(ddof=0)\n",
    "\n",
    "# Show the calculated statistics\n",
    "print \"Statistics for Boston housing dataset:\\n\"\n",
    "print \"Minimum price: ${:,.2f}\".format(minimum_price)\n",
    "print \"Maximum price: ${:,.2f}\".format(maximum_price)\n",
    "print \"Mean price: ${:,.2f}\".format(mean_price)\n",
    "print \"Median price ${:,.2f}\".format(median_price)\n",
    "print \"Standard deviation of prices: ${:,.2f}\".format(std_price)"
   ]
  },
  {
   "cell_type": "markdown",
   "metadata": {},
   "source": [
    "### Question 1 - Feature Observation\n",
    "As a reminder, we are using three features from the Boston housing dataset: `'RM'`, `'LSTAT'`, and `'PTRATIO'`. For each data point (neighborhood):\n",
    "- `'RM'` is the average number of rooms among homes in the neighborhood.\n",
    "- `'LSTAT'` is the percentage of homeowners in the neighborhood considered \"lower class\" (working poor).\n",
    "- `'PTRATIO'` is the ratio of students to teachers in primary and secondary schools in the neighborhood.\n",
    "\n",
    "_Using your intuition, for each of the three features above, do you think that an increase in the value of that feature would lead to an **increase** in the value of `'MEDV'` or a **decrease** in the value of `'MEDV'`? Justify your answer for each._  \n",
    "**Hint:** Would you expect a home that has an `'RM'` value of 6 be worth more or less than a home that has an `'RM'` value of 7?"
   ]
  },
  {
   "cell_type": "markdown",
   "metadata": {},
   "source": [
    "**Answer: **\n",
    "\n",
    "RM: An increase in the number of rooms in homes in the neighborhood should imply an INCREASE of the MEDV, as a large (and therefore expensive) home should be more likely to appear in the neighborhood of large homes (and a small home should appear more frequently in ares where there are lots of small homes).\n",
    "\n",
    "LSTAT: An increasing number of lower class neighbors will most likely DECREASE the MEDV, as lower class neighbor probably cannot afford to live in an expensive home, and low-cost homes in the neighborhood are likely to imply low cost of the home in question.\n",
    "\n",
    "PTRATIO: 'Good' (expensive) schools are associated with a low student to teacher ratio. Therefore, an increase in the PTRATIO should go along with a DECREASE of MEDV, as home buyer probably value to have 'good' schools nearby."
   ]
  },
  {
   "cell_type": "markdown",
   "metadata": {},
   "source": [
    "----\n",
    "\n",
    "## Developing a Model\n",
    "In this second section of the project, you will develop the tools and techniques necessary for a model to make a prediction. Being able to make accurate evaluations of each model's performance through the use of these tools and techniques helps to greatly reinforce the confidence in your predictions."
   ]
  },
  {
   "cell_type": "markdown",
   "metadata": {},
   "source": [
    "### Implementation: Define a Performance Metric\n",
    "It is difficult to measure the quality of a given model without quantifying its performance over training and testing. This is typically done using some type of performance metric, whether it is through calculating some type of error, the goodness of fit, or some other useful measurement. For this project, you will be calculating the [*coefficient of determination*](http://stattrek.com/statistics/dictionary.aspx?definition=coefficient_of_determination), R<sup>2</sup>, to quantify your model's performance. The coefficient of determination for a model is a useful statistic in regression analysis, as it often describes how \"good\" that model is at making predictions. \n",
    "\n",
    "The values for R<sup>2</sup> range from 0 to 1, which captures the percentage of squared correlation between the predicted and actual values of the **target variable**. A model with an R<sup>2</sup> of 0 always fails to predict the target variable, whereas a model with an R<sup>2</sup> of 1 perfectly predicts the target variable. Any value between 0 and 1 indicates what percentage of the target variable, using this model, can be explained by the **features**. *A model can be given a negative R<sup>2</sup> as well, which indicates that the model is no better than one that naively predicts the mean of the target variable.*\n",
    "\n",
    "For the `performance_metric` function in the code cell below, you will need to implement the following:\n",
    "- Use `r2_score` from `sklearn.metrics` to perform a performance calculation between `y_true` and `y_predict`.\n",
    "- Assign the performance score to the `score` variable."
   ]
  },
  {
   "cell_type": "code",
   "execution_count": 3,
   "metadata": {
    "collapsed": false
   },
   "outputs": [],
   "source": [
    "# TODO: Import 'r2_score'\n",
    "from sklearn.metrics import r2_score\n",
    "\n",
    "def performance_metric(y_true, y_predict):\n",
    "    \"\"\" Calculates and returns the performance score between \n",
    "        true and predicted values based on the metric chosen. \"\"\"\n",
    "    \n",
    "    # TODO: Calculate the performance score between 'y_true' and 'y_predict'\n",
    "    score = r2_score(y_true, y_predict)\n",
    "    \n",
    "    # Return the score\n",
    "    return score"
   ]
  },
  {
   "cell_type": "markdown",
   "metadata": {},
   "source": [
    "### Question 2 - Goodness of Fit\n",
    "Assume that a dataset contains five data points and a model made the following predictions for the target variable:\n",
    "\n",
    "| True Value | Prediction |\n",
    "| :-------------: | :--------: |\n",
    "| 3.0 | 2.5 |\n",
    "| -0.5 | 0.0 |\n",
    "| 2.0 | 2.1 |\n",
    "| 7.0 | 7.8 |\n",
    "| 4.2 | 5.3 |\n",
    "*Would you consider this model to have successfully captured the variation of the target variable? Why or why not?* \n",
    "\n",
    "Run the code cell below to use the `performance_metric` function and calculate this model's coefficient of determination."
   ]
  },
  {
   "cell_type": "code",
   "execution_count": 4,
   "metadata": {
    "collapsed": false
   },
   "outputs": [
    {
     "name": "stdout",
     "output_type": "stream",
     "text": [
      "Model has a coefficient of determination, R^2, of 0.923.\n"
     ]
    }
   ],
   "source": [
    "# Calculate the performance of this model\n",
    "score = performance_metric([3, -0.5, 2, 7, 4.2], [2.5, 0.0, 2.1, 7.8, 5.3])\n",
    "print \"Model has a coefficient of determination, R^2, of {:.3f}.\".format(score)"
   ]
  },
  {
   "cell_type": "code",
   "execution_count": 5,
   "metadata": {
    "collapsed": false,
    "scrolled": true
   },
   "outputs": [
    {
     "name": "stdout",
     "output_type": "stream",
     "text": [
      "Correlation coefficient: 0.981231854503\n",
      "Mean squared error: 0.472\n",
      "Explained variance score: 0.949006276151\n"
     ]
    }
   ],
   "source": [
    "#Further analysis\n",
    "from sklearn.metrics import mean_squared_error, explained_variance_score\n",
    "x,y=[3, -0.5, 2, 7, 4.2], [2.5, 0.0, 2.1, 7.8, 5.3]\n",
    "print \"Correlation coefficient: {}\".format(np.corrcoef(x,y)[1,0])\n",
    "print \"Mean squared error: {}\".format(mean_squared_error(x,y))\n",
    "print \"Explained variance score: {}\".format(explained_variance_score(x,y))"
   ]
  },
  {
   "cell_type": "markdown",
   "metadata": {},
   "source": [
    "**Answer:**\n",
    "\n",
    "The model indeed has quite successfully captured the variation of the target variable. The coefficient of determination is 0.923, which means that 92.3% of the variance in the true data is predictable with the model. The determined R^2 is already close to the theoretical maximum of 1. \n",
    "\n",
    "The further analysis shows that the mean squared error of model prediction vs. true value is <0.5, which appears reasonable for (true) values between -0.5 and 7.0. The correlation between true value and prediction is very high (~0.98), as is the explained variance (~0.95)"
   ]
  },
  {
   "cell_type": "markdown",
   "metadata": {},
   "source": [
    "### Implementation: Shuffle and Split Data\n",
    "Your next implementation requires that you take the Boston housing dataset and split the data into training and testing subsets. Typically, the data is also shuffled into a random order when creating the training and testing subsets to remove any bias in the ordering of the dataset.\n",
    "\n",
    "For the code cell below, you will need to implement the following:\n",
    "- Use `train_test_split` from `sklearn.cross_validation` to shuffle and split the `features` and `prices` data into training and testing sets.\n",
    "  - Split the data into 80% training and 20% testing.\n",
    "  - Set the `random_state` for `train_test_split` to a value of your choice. This ensures results are consistent.\n",
    "- Assign the train and testing splits to `X_train`, `X_test`, `y_train`, and `y_test`."
   ]
  },
  {
   "cell_type": "code",
   "execution_count": 6,
   "metadata": {
    "collapsed": false
   },
   "outputs": [
    {
     "name": "stdout",
     "output_type": "stream",
     "text": [
      "Training and testing split was successful.\n"
     ]
    }
   ],
   "source": [
    "# TODO: Import 'train_test_split'\n",
    "from sklearn.cross_validation import train_test_split\n",
    "\n",
    "# TODO: Shuffle and split the data into training and testing subsets\n",
    "X_train, X_test, y_train, y_test = train_test_split(features, prices, test_size=0.2, random_state=44)\n",
    "\n",
    "# Success\n",
    "print \"Training and testing split was successful.\""
   ]
  },
  {
   "cell_type": "markdown",
   "metadata": {},
   "source": [
    "### Question 3 - Training and Testing\n",
    "*What is the benefit to splitting a dataset into some ratio of training and testing subsets for a learning algorithm?*  \n",
    "**Hint:** What could go wrong with not having a way to test your model?"
   ]
  },
  {
   "cell_type": "markdown",
   "metadata": {},
   "source": [
    "**Answer: **\n",
    "\n",
    "If a model is trained on a training data set, it should be tested against *test data*. The test data should not be included in the training data. \n",
    "\n",
    "If the model is not tested against dedicated test data, a high generalization error might go undetected. *Overfitting* might occur, which would produce a very good model fit to the training data (low variance) but poor fit to new data (high variance).\n",
    "Measuring the model performance on test data provides a means to find the \"sweet spot\" when choosing the model complexity. \n",
    "\n",
    "Splitting the data set into training and test data can have the drawback of effectively reducing the amount of data used for training the model, however this can be avoided by using K-fold cross validation.\n"
   ]
  },
  {
   "cell_type": "markdown",
   "metadata": {},
   "source": [
    "----\n",
    "\n",
    "## Analyzing Model Performance\n",
    "In this third section of the project, you'll take a look at several models' learning and testing performances on various subsets of training data. Additionally, you'll investigate one particular algorithm with an increasing `'max_depth'` parameter on the full training set to observe how model complexity affects performance. Graphing your model's performance based on varying criteria can be beneficial in the analysis process, such as visualizing behavior that may not have been apparent from the results alone."
   ]
  },
  {
   "cell_type": "markdown",
   "metadata": {},
   "source": [
    "### Learning Curves\n",
    "The following code cell produces four graphs for a decision tree model with different maximum depths. Each graph visualizes the learning curves of the model for both training and testing as the size of the training set is increased. Note that the shaded region of a learning curve denotes the uncertainty of that curve (measured as the standard deviation). The model is scored on both the training and testing sets using R<sup>2</sup>, the coefficient of determination.  \n",
    "\n",
    "Run the code cell below and use these graphs to answer the following question."
   ]
  },
  {
   "cell_type": "code",
   "execution_count": 7,
   "metadata": {
    "collapsed": false,
    "scrolled": false
   },
   "outputs": [
    {
     "data": {
      "image/png": "[encoded data removed]",
      "text/plain": [
       "<matplotlib.figure.Figure at 0x3a8e2e8>"
      ]
     },
     "metadata": {},
     "output_type": "display_data"
    }
   ],
   "source": [
    "# Produce learning curves for varying training set sizes and maximum depths\n",
    "vs.ModelLearning(features, prices)"
   ]
  },
  {
   "cell_type": "markdown",
   "metadata": {},
   "source": [
    "### Question 4 - Learning the Data\n",
    "*Choose one of the graphs above and state the maximum depth for the model. What happens to the score of the training curve as more training points are added? What about the testing curve? Would having more training points benefit the model?*  \n",
    "**Hint:** Are the learning curves converging to particular scores?"
   ]
  },
  {
   "cell_type": "markdown",
   "metadata": {},
   "source": [
    "**Answer: **\n",
    "\n",
    "Judging from the graphs, max_depth=3 as depicted in the second graph seems to be suitable for the model and is described in the following.\n",
    "\n",
    "The *training score* appears very high (close to 1) for a very small number of data points and then deterioriates with more training points. At about 300 data points, the training score plateaus at just above 0.8.\n",
    "\n",
    "The *testing score* increases with growing number of training points used. At about 300 data points, the testing score plateaus as well, at just below 0.8.\n",
    "\n",
    "Seeing training and testing score converge to reasonably high values with growing number of training points, we can also notice that the gap between training and testing score is quite small (~0.05), much smaller than for larger values of max_depth. This indicates that the model complexity with max_depth=3 is a good compromise between bias and variance and is likely to produce a low prediction error. And indeed, the testing score with max_depth=3 is better than for the other values of max_depth in the depicted learning curves.\n",
    "\n",
    "More data is generally likely to reduce the testing error further (i.e. increase the testing score). Having said that, the gain in testing score is probably only *very small*, as there is hardly any increase in testing score for above 300 training points. Therefore, one can probably refrain from using more training points.\n"
   ]
  },
  {
   "cell_type": "markdown",
   "metadata": {},
   "source": [
    "### Complexity Curves\n",
    "The following code cell produces a graph for a decision tree model that has been trained and validated on the training data using different maximum depths. The graph produces two complexity curves — one for training and one for validation. Similar to the **learning curves**, the shaded regions of both the complexity curves denote the uncertainty in those curves, and the model is scored on both the training and validation sets using the `performance_metric` function.  \n",
    "\n",
    "Run the code cell below and use this graph to answer the following two questions."
   ]
  },
  {
   "cell_type": "code",
   "execution_count": 8,
   "metadata": {
    "collapsed": false
   },
   "outputs": [
    {
     "data": {
      "image/png": "[encoded data removed]",
      "text/plain": [
       "<matplotlib.figure.Figure at 0xc07c940>"
      ]
     },
     "metadata": {},
     "output_type": "display_data"
    }
   ],
   "source": [
    "vs.ModelComplexity(X_train, y_train)"
   ]
  },
  {
   "cell_type": "markdown",
   "metadata": {},
   "source": [
    "### Question 5 - Bias-Variance Tradeoff\n",
    "*When the model is trained with a maximum depth of 1, does the model suffer from high bias or from high variance? How about when the model is trained with a maximum depth of 10? What visual cues in the graph justify your conclusions?*  \n",
    "**Hint:** How do you know when a model is suffering from high bias or high variance?"
   ]
  },
  {
   "cell_type": "markdown",
   "metadata": {},
   "source": [
    "**Answer: **\n",
    "\n",
    "With a maximum depth of 1, the model suffers from high bias, i.e. the model is not complex enough to provide a suitable match to the \"true\" function (\"underfitting\"). The generally poor model score (for both training and validation) as visible in the graph is an indication of high bias. \n",
    "\n",
    "When the model is trained with a maximum depth of 10, the bias is small, but the variance is high. This means that the model is \"overfitting\" and is falsely optimized to features in the training data, which are in reality not relevant. In the graph, we can see a large gap between traning and validation score, which is an indication of high variance."
   ]
  },
  {
   "cell_type": "markdown",
   "metadata": {},
   "source": [
    "### Question 6 - Best-Guess Optimal Model\n",
    "*Which maximum depth do you think results in a model that best generalizes to unseen data? What intuition lead you to this answer?*"
   ]
  },
  {
   "cell_type": "markdown",
   "metadata": {},
   "source": [
    "**Answer: **\n",
    "\n",
    "The validation test score is the best metric at hand to assess the model performance with unseen data. Therefore, a **maximum depth of 4** is most promising to deliver the best generalization, as the validation score is highest with this depth. Also, the gap between training and validation score is reasonably small (but not minimal) for max_depth=4.\n",
    "\n",
    "Generally, the observed complexity curve fits nicely to the theoretical expectation for testing and generalization error vs. model complexity: While testing error should decrease monotonously (i.e. training score increases monotonously) with growing complexity, the generalization error should have a \"U\"-shape, i.e. a minimum for a certain complexity (here: validation score should have a maximum for a certain complexity), as seen in the curve."
   ]
  },
  {
   "cell_type": "markdown",
   "metadata": {},
   "source": [
    "-----\n",
    "\n",
    "## Evaluating Model Performance\n",
    "In this final section of the project, you will construct a model and make a prediction on the client's feature set using an optimized model from `fit_model`."
   ]
  },
  {
   "cell_type": "markdown",
   "metadata": {},
   "source": [
    "### Question 7 - Grid Search\n",
    "*What is the grid search technique and how it can be applied to optimize a learning algorithm?*"
   ]
  },
  {
   "cell_type": "markdown",
   "metadata": {},
   "source": [
    "**Answer: **\n",
    "\n",
    "Grid search is a technique that systematically analyzes multiple combinations of model hyperparameter settings and determines the hyperparameter set that yields the best model performance. An example for a hyperparameter is the maximum depth as discussed in the previous section.\n",
    "\n",
    "Once a learning algorithm is found/chosen, grid search can be applied to optimize it by fine-tuning the hyperparameters that the algorithm uses. The user usually provides a finite list of possible settings for each hyperparameter and applies grid search to determine optimal values by checking all possible combinations - this is called 'exhaustive grid search (see http://www.deeplearningbook.org/ Chapter 11.4.3; see http://scikit-learn.org/stable/modules/grid_search.html). Other variants of grid search exist, where a randomized search over parameters (stemming from a distribution of possible parameter values) is executed.\n",
    "\n",
    "scikit-learn.grid_search provides tools for the execution of grid search. "
   ]
  },
  {
   "cell_type": "markdown",
   "metadata": {},
   "source": [
    "### Question 8 - Cross-Validation\n",
    "*What is the k-fold cross-validation training technique? What benefit does this technique provide for grid search when optimizing a model?*  \n",
    "**Hint:** Much like the reasoning behind having a testing set, what could go wrong with using grid search without a cross-validated set?"
   ]
  },
  {
   "cell_type": "markdown",
   "metadata": {},
   "source": [
    "**Answer: **\n",
    "\n",
    "As shown in the lessons, k-fold cross validation is a technique that partitions the available data into k bins. In k runs, each bin is used as validation data, while the other bins are used as training data. Finally, the average of all k observed validation results (prediction error) is calculated.\n",
    "\n",
    "The benefit of the k-fold cross validation is that the entire data set is used for training, and for validation; this is helpful to assess the model generalization performance. K-fold cross validation is especially advisable when dealing with data sets that are potentially too small for the problem at hand.\n",
    "\n",
    "When using the grid search technique to identify the optimal choice for model hyperparameters, (k-fold) cross validation should be used to investigate how a certain hyperparameter set affects the model's generalization performance.\n",
    "\n"
   ]
  },
  {
   "cell_type": "markdown",
   "metadata": {},
   "source": [
    "### Implementation: Fitting a Model\n",
    "Your final implementation requires that you bring everything together and train a model using the **decision tree algorithm**. To ensure that you are producing an optimized model, you will train the model using the grid search technique to optimize the `'max_depth'` parameter for the decision tree. The `'max_depth'` parameter can be thought of as how many questions the decision tree algorithm is allowed to ask about the data before making a prediction. Decision trees are part of a class of algorithms called *supervised learning algorithms*.\n",
    "\n",
    "For the `fit_model` function in the code cell below, you will need to implement the following:\n",
    "- Use [`DecisionTreeRegressor`](http://scikit-learn.org/stable/modules/generated/sklearn.tree.DecisionTreeRegressor.html) from `sklearn.tree` to create a decision tree regressor object.\n",
    "  - Assign this object to the `'regressor'` variable.\n",
    "- Create a dictionary for `'max_depth'` with the values from 1 to 10, and assign this to the `'params'` variable.\n",
    "- Use [`make_scorer`](http://scikit-learn.org/stable/modules/generated/sklearn.metrics.make_scorer.html) from `sklearn.metrics` to create a scoring function object.\n",
    "  - Pass the `performance_metric` function as a parameter to the object.\n",
    "  - Assign this scoring function to the `'scoring_fnc'` variable.\n",
    "- Use [`GridSearchCV`](http://scikit-learn.org/stable/modules/generated/sklearn.grid_search.GridSearchCV.html) from `sklearn.grid_search` to create a grid search object.\n",
    "  - Pass the variables `'regressor'`, `'params'`, `'scoring_fnc'`, and `'cv_sets'` as parameters to the object. \n",
    "  - Assign the `GridSearchCV` object to the `'grid'` variable."
   ]
  },
  {
   "cell_type": "code",
   "execution_count": 9,
   "metadata": {
    "collapsed": false
   },
   "outputs": [],
   "source": [
    "# TODO: Import 'make_scorer', 'DecisionTreeRegressor', and 'GridSearchCV'\n",
    "from sklearn.metrics import make_scorer\n",
    "from sklearn.grid_search import GridSearchCV\n",
    "from sklearn.tree import DecisionTreeRegressor\n",
    "\n",
    "def fit_model(X, y):\n",
    "    \"\"\" Performs grid search over the 'max_depth' parameter for a \n",
    "        decision tree regressor trained on the input data [X, y]. \"\"\"\n",
    "    \n",
    "    # Create cross-validation sets from the training data\n",
    "    cv_sets = ShuffleSplit(X.shape[0], n_iter = 10, test_size = 0.20, random_state = 0)\n",
    "\n",
    "    # TODO: Create a decision tree regressor object\n",
    "    regressor = DecisionTreeRegressor(random_state=44)\n",
    "\n",
    "    # TODO: Create a dictionary for the parameter 'max_depth' with a range from 1 to 10\n",
    "    params = {'max_depth': range(1,11)}\n",
    "\n",
    "    # TODO: Transform 'performance_metric' into a scoring function using 'make_scorer' \n",
    "    scoring_fnc = make_scorer(performance_metric)\n",
    "\n",
    "    # TODO: Create the grid search object\n",
    "    grid = GridSearchCV(regressor, params, cv = cv_sets, scoring = scoring_fnc)\n",
    "\n",
    "    # Fit the grid search object to the data to compute the optimal model\n",
    "    grid = grid.fit(X, y)\n",
    "\n",
    "    # Return the optimal model after fitting the data\n",
    "    return grid.best_estimator_"
   ]
  },
  {
   "cell_type": "markdown",
   "metadata": {},
   "source": [
    "### Making Predictions\n",
    "Once a model has been trained on a given set of data, it can now be used to make predictions on new sets of input data. In the case of a *decision tree regressor*, the model has learned *what the best questions to ask about the input data are*, and can respond with a prediction for the **target variable**. You can use these predictions to gain information about data where the value of the target variable is unknown — such as data the model was not trained on."
   ]
  },
  {
   "cell_type": "markdown",
   "metadata": {},
   "source": [
    "### Question 9 - Optimal Model\n",
    "_What maximum depth does the optimal model have? How does this result compare to your guess in **Question 6**?_  \n",
    "\n",
    "Run the code block below to fit the decision tree regressor to the training data and produce an optimal model."
   ]
  },
  {
   "cell_type": "code",
   "execution_count": 10,
   "metadata": {
    "collapsed": false,
    "scrolled": true
   },
   "outputs": [
    {
     "name": "stdout",
     "output_type": "stream",
     "text": [
      "Parameter 'max_depth' is 4 for the optimal model.\n"
     ]
    }
   ],
   "source": [
    "# Fit the training data to the model using grid search\n",
    "reg = fit_model(X_train, y_train)\n",
    "\n",
    "# Produce the value for 'max_depth'\n",
    "print \"Parameter 'max_depth' is {} for the optimal model.\".format(reg.get_params()['max_depth'])"
   ]
  },
  {
   "cell_type": "markdown",
   "metadata": {},
   "source": [
    "**Answer: **\n",
    "\n",
    "The optimal model has maximum depth = 4. \n",
    "\n",
    "This is consistent with my answer to question 6."
   ]
  },
  {
   "cell_type": "markdown",
   "metadata": {},
   "source": [
    "### Question 10 - Predicting Selling Prices\n",
    "Imagine that you were a real estate agent in the Boston area looking to use this model to help price homes owned by your clients that they wish to sell. You have collected the following information from three of your clients:\n",
    "\n",
    "| Feature | Client 1 | Client 2 | Client 3 |\n",
    "| :---: | :---: | :---: | :---: |\n",
    "| Total number of rooms in home | 5 rooms | 4 rooms | 8 rooms |\n",
    "| Neighborhood poverty level (as %) | 17% | 32% | 3% |\n",
    "| Student-teacher ratio of nearby schools | 15-to-1 | 22-to-1 | 12-to-1 |\n",
    "*What price would you recommend each client sell his/her home at? Do these prices seem reasonable given the values for the respective features?*  \n",
    "**Hint:** Use the statistics you calculated in the **Data Exploration** section to help justify your response.  \n",
    "\n",
    "Run the code block below to have your optimized model make predictions for each client's home."
   ]
  },
  {
   "cell_type": "code",
   "execution_count": 11,
   "metadata": {
    "collapsed": false
   },
   "outputs": [
    {
     "name": "stdout",
     "output_type": "stream",
     "text": [
      "Predicted selling price for Client 1's home: $405,946.15, that is -0.3 sd relative to mean\n",
      "Predicted selling price for Client 2's home: $222,337.50, that is -1.4 sd relative to mean\n",
      "Predicted selling price for Client 3's home: $954,712.50, that is 3.0 sd relative to mean\n"
     ]
    }
   ],
   "source": [
    "# Produce a matrix for client data\n",
    "client_data = [[5, 17, 15], # Client 1\n",
    "               [4, 32, 22], # Client 2\n",
    "               [8, 3, 12]]  # Client 3\n",
    "\n",
    "# Show predictions (Modified!)\n",
    "for i, price in enumerate(reg.predict(client_data)):\n",
    "    print \"Predicted selling price for Client {}'s home: ${:,.2f}, that is {:,.1f} sd relative to mean\".format(i+1, price, (price-prices.mean())/prices.std())"
   ]
  },
  {
   "cell_type": "code",
   "execution_count": 12,
   "metadata": {
    "collapsed": false
   },
   "outputs": [
    {
     "name": "stdout",
     "output_type": "stream",
     "text": [
      "Statistics for number of rooms: \n",
      "count    489.000000\n",
      "mean       6.240288\n",
      "std        0.643650\n",
      "min        3.561000\n",
      "25%        5.880000\n",
      "50%        6.185000\n",
      "75%        6.575000\n",
      "max        8.398000\n",
      "Name: RM, dtype: float64\n",
      "\n",
      "Statistics for neighborhood poverty level: \n",
      "count    489.000000\n",
      "mean      12.939632\n",
      "std        7.081990\n",
      "min        1.980000\n",
      "25%        7.370000\n",
      "50%       11.690000\n",
      "75%       17.120000\n",
      "max       37.970000\n",
      "Name: LSTAT, dtype: float64\n",
      "\n",
      "Statistics for student-teacher ratio of nearby schools: \n",
      "count    489.000000\n",
      "mean      18.516564\n",
      "std        2.111268\n",
      "min       12.600000\n",
      "25%       17.400000\n",
      "50%       19.100000\n",
      "75%       20.200000\n",
      "max       22.000000\n",
      "Name: PTRATIO, dtype: float64\n",
      "\n",
      "Client 1:\n",
      "Feature RM is -1.9 sd relative to mean.\n",
      "Feature LSTAT is 0.6 sd relative to mean.\n",
      "Feature PTRATIO is -1.7 sd relative to mean.\n",
      "Client 2:\n",
      "Feature RM is -3.5 sd relative to mean.\n",
      "Feature LSTAT is 2.7 sd relative to mean.\n",
      "Feature PTRATIO is 1.6 sd relative to mean.\n",
      "Client 3:\n",
      "Feature RM is 2.7 sd relative to mean.\n",
      "Feature LSTAT is -1.4 sd relative to mean.\n",
      "Feature PTRATIO is -3.1 sd relative to mean.\n"
     ]
    }
   ],
   "source": [
    "# Some additional statistics to the previously calculated statistics:\n",
    "featuremat=['RM', 'LSTAT', 'PTRATIO']\n",
    "print \"Statistics for number of rooms: \"\n",
    "print features['RM'].describe()\n",
    "print\n",
    "print \"Statistics for neighborhood poverty level: \"\n",
    "print features['LSTAT'].describe()\n",
    "print\n",
    "print \"Statistics for student-teacher ratio of nearby schools: \"\n",
    "print features['PTRATIO'].describe()\n",
    "print\n",
    "for i in range(3):\n",
    "    print \"Client {}:\".format(i+1)\n",
    "    for feature in featuremat:\n",
    "         print \"Feature {} is {:,.1f} sd relative to mean.\".format(feature, \\\n",
    "                (client_data[i][featuremat.index(feature)] - features[feature].mean())/  features[feature].std()  )\n",
    "#(client_data[i,0]-features[feature].mean)/features[feature.std] )"
   ]
  },
  {
   "cell_type": "markdown",
   "metadata": {},
   "source": [
    "# **Answer: **\n",
    "\n",
    "In addition to the price prediction of the model, I make an argument based on where the individual client's houses are positioned regarding their features (RM, LSTAT, and PTRATIO), which might justify the predicted price.\n",
    "\n",
    "*Client 1*: The model predicts a selling price of $405,946.15.\n",
    "Features 1 and 2 are worse than average (mean), by ~1.9 and 0.6 standard deviations, respectively. Feature 3 (S-T ratio) is better than average (by ~1.7 standard deviations). Therefore it appears reasonable that the house's price is close to, but probably slightly lower than the mean price, which is the case (about 0.3 standard deviation below mean).\n",
    "\n",
    "*Client 2*: The model predicts a selling price of $222,337.50.\n",
    "All features are consistently worse than average, by between 1.6 and 3.5 standard deviations. Therefore it seems appropriate that the house price is also clearly below average (by 1.4 standard deviations w.r.t. the mean price).\n",
    "\n",
    "*Client 3*: The model predicts a selling price of $954,712.50. \n",
    "All features are consistently better than the mean, by between 1.4 and 3.1 standard deviations. The price is a hefty 3 standard deviations above the mean. That may seem a lot, but a quick look at the data sorted by price reveals that there are several houses that yield between 900,000 and 1,000,000 dollars with similar features (RM=~[7.4...8.3]; LSTAT=[3...4]; PTRATIO=[13...17.5]). Therefore, the price of just below a million dollars does not appear exaggerated.\n",
    "\n",
    "Sticking to this thought, it may be an interesting exercise to apply a k-nearest-neighbors analysis to get a second prediction of the house price. This is done below (with k=1). Note that all results are slightly lower (too low?) than the above predictions... maybe I made a mistake in the k-nearest-neighbors calculation. Might it help to normalize the data before doing the neighbor analysis?"
   ]
  },
  {
   "cell_type": "code",
   "execution_count": 14,
   "metadata": {
    "collapsed": false
   },
   "outputs": [
    {
     "name": "stdout",
     "output_type": "stream",
     "text": [
      "Predicted selling price for Client 1's home via nearest neighbor analysis: $327,600.00\n",
      "Predicted selling price for Client 2's home via nearest neighbor analysis: $155,400.00\n",
      "Predicted selling price for Client 3's home via nearest neighbor analysis: $913,500.00\n"
     ]
    }
   ],
   "source": [
    "from sklearn.neighbors import KNeighborsClassifier\n",
    "neigh = KNeighborsClassifier(n_neighbors=1, weights='uniform')\n",
    "neigh.fit(features, prices) \n",
    "\n",
    "for i, price in enumerate(neigh.predict(client_data)):\n",
    "    print \"Predicted selling price for Client {}'s home via nearest neighbor analysis: ${:,.2f}\".format(i+1, price)\n",
    "\n",
    "from IPython.display import Image\n",
    "from sklearn.externals.six import StringIO\n",
    "import pydot\n",
    "from sklearn import tree\n",
    "\n"
   ]
  },
  {
   "cell_type": "markdown",
   "metadata": {},
   "source": [
    "## Sensitivity\n",
    "An optimal model is not necessarily a robust model. Sometimes, a model is either too complex or too simple to sufficiently generalize to new data. Sometimes, a model could use a learning algorithm that is not appropriate for the structure of the data given. Other times, the data itself could be too noisy or contain too few samples to allow a model to adequately capture the target variable — i.e., the model is underfitted. Run the code cell below to run the `fit_model` function ten times with different training and testing sets to see how the prediction for a specific client changes with the data it's trained on."
   ]
  },
  {
   "cell_type": "code",
   "execution_count": 16,
   "metadata": {
    "collapsed": false
   },
   "outputs": [
    {
     "name": "stdout",
     "output_type": "stream",
     "text": [
      "Trial 1: $391,183.33\n",
      "Trial 2: $424,935.00\n",
      "Trial 3: $415,800.00\n",
      "Trial 4: $420,622.22\n",
      "Trial 5: $418,377.27\n",
      "Trial 6: $411,931.58\n",
      "Trial 7: $399,663.16\n",
      "Trial 8: $407,232.00\n",
      "Trial 9: $351,577.61\n",
      "Trial 10: $413,700.00\n",
      "\n",
      "Std in prices: $20,338.58\n",
      "\n",
      "Range in prices: $73,357.39 \n"
     ]
    }
   ],
   "source": [
    "from visuals import PredictTrials # Supplementary code - I modified it to output the std of the predicted prices.\n",
    "PredictTrials(features, prices, fit_model, client_data)"
   ]
  },
  {
   "cell_type": "markdown",
   "metadata": {},
   "source": [
    "### Question 11 - Applicability\n",
    "*In a few sentences, discuss whether the constructed model should or should not be used in a real-world setting.*  \n",
    "**Hint:** Some questions to answering:\n",
    "- *How relevant today is data that was collected from 1978?*\n",
    "- *Are the features present in the data sufficient to describe a home?*\n",
    "- *Is the model robust enough to make consistent predictions?*\n",
    "- *Would data collected in an urban city like Boston be applicable in a rural city?*"
   ]
  },
  {
   "cell_type": "markdown",
   "metadata": {},
   "source": [
    "##### **Answer: **\n",
    "\n",
    "While the model appears to be relatively robust (standard deviation for house price of 10 runs is less than 5%), there are several factors that make it appear unsuited for use in a real-world setting. The model data is so old that...\n",
    "\n",
    "1. any prices contained (even if adjusted for inflation) most likely do not represent current real estate prices. Current prices might be higher/lower, or have a smaller/large standard deviation.\n",
    "\n",
    "2. the features contained are probably subject to change as a whole. E.g. there might have been a general trend to have more or less teachers per student at Boston schools than in 1978, or the Boston poverty ratio may have risen or declined in the last 38 years.\n",
    "\n",
    "3. the chosen feature might lose their relevancy, e.g. the number of rooms in neighborhood houses might no be that useful anymore as a criterion as it was in 1978. \n",
    "\n",
    "Another context switch (in addition to the nearly 40 years in time between the model on 1978's data and Boston today), such as using the data for other cities or even rural areas would make its usefulness even more questionable. Some criteria are probably very different in different contexts (for example the poverty rate might be very different in different cities, e.g. what would count as low in Detroit could be high in San Francisco; or the average house price in Boston might be several times higher than the house price in a rural are in the Midwest). In short, all the issues mentioned above would probably be amplified if an attempt was made to use the model in different context.\n",
    "\n",
    "In general, the approach to constucting a model COULD be reused with better (more current, context-specific) data. It is out of scope of this project to analyze which features are most significant for the predicition of a house price, but this analysis would be very helpful for the construction of a model (one might start by calculating correlation coefficients between a feature and the price)."
   ]
  },
  {
   "cell_type": "code",
   "execution_count": null,
   "metadata": {
    "collapsed": true
   },
   "outputs": [],
   "source": []
  }
 ],
 "metadata": {
  "anaconda-cloud": {},
  "kernelspec": {
   "display_name": "Python [Root]",
   "language": "python",
   "name": "Python [Root]"
  },
  "language_info": {
   "codemirror_mode": {
    "name": "ipython",
    "version": 2
   },
   "file_extension": ".py",
   "mimetype": "text/x-python",
   "name": "python",
   "nbconvert_exporter": "python",
   "pygments_lexer": "ipython2",
   "version": "2.7.11"
  }
 },
 "nbformat": 4,
 "nbformat_minor": 0
}
